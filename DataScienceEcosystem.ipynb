{
 "cells": [
  {
   "cell_type": "markdown",
   "id": "89fe3467-7e83-4f75-9158-7419de78ad67",
   "metadata": {
    "tags": []
   },
   "source": [
    "# Data Science Tools and Ecosystem"
   ]
  },
  {
   "cell_type": "markdown",
   "id": "3266de5c-1226-4ade-98b8-1ff56ba5c656",
   "metadata": {},
   "source": [
    "In this notebook, Data Science Tools and Ecosystem are summarized."
   ]
  },
  {
   "cell_type": "markdown",
   "id": "199ef5a9-2430-40d6-8d74-f508e1f10305",
   "metadata": {},
   "source": [
    "**Objectives:**\n",
    "1. List popular languages for Data Science\n",
    "2. List popular libraries for Data Science\n",
    "3. Show arithmetic expression in Python"
   ]
  },
  {
   "cell_type": "markdown",
   "id": "e4ffd352-cb2b-4fb6-ba6d-d6db3a8fc4e2",
   "metadata": {},
   "source": [
    "Some of the popular languages that Data Scientists use are:\n",
    "1. Python\n",
    "2. R lang\n",
    "3. SQL"
   ]
  },
  {
   "cell_type": "markdown",
   "id": "32b133cc-f2fc-4a35-a77e-142f061a3e05",
   "metadata": {},
   "source": [
    "Some of the commonly used libraries used by Data Scientists include:\n",
    "1. Numpy\n",
    "2. Pandas\n",
    "3. Matplotlib"
   ]
  },
  {
   "cell_type": "markdown",
   "id": "ae380263-3c0c-4750-9e45-1a057685129b",
   "metadata": {},
   "source": [
    "| Data Science Tools |\n",
    "| --- |\n",
    "| JupyterLab |\n",
    "| Anaconda | \n",
    "| VSCode | "
   ]
  },
  {
   "cell_type": "markdown",
   "id": "e7fe0705-5aac-4f1b-9b14-9cd03b823195",
   "metadata": {},
   "source": [
    "### Below are a few examples of evaluating arithmetic expressions in Python"
   ]
  },
  {
   "cell_type": "code",
   "execution_count": 1,
   "id": "8219a864-e63f-4478-afc1-4617c9166691",
   "metadata": {
    "tags": []
   },
   "outputs": [
    {
     "data": {
      "text/plain": [
       "17"
      ]
     },
     "execution_count": 1,
     "metadata": {},
     "output_type": "execute_result"
    }
   ],
   "source": [
    "# This a simple arithmetic expression to mutiply then add integers\n",
    "(3*4)+5"
   ]
  },
  {
   "cell_type": "code",
   "execution_count": 6,
   "id": "3f8bd6d6-927e-4f34-9b70-efe6dbe45267",
   "metadata": {
    "tags": []
   },
   "outputs": [
    {
     "name": "stdout",
     "output_type": "stream",
     "text": [
      "3hr\n"
     ]
    }
   ],
   "source": [
    "# This will convert 200 minutes to hours by diving by 60\n",
    "print(str(200 // 60) + \"hr\")"
   ]
  },
  {
   "cell_type": "markdown",
   "id": "982965c7-7caa-462f-b39f-398758297ccf",
   "metadata": {
    "tags": []
   },
   "source": [
    "## Author\n",
    "Dennis Chou (CHOU KUAN YU)"
   ]
  }
 ],
 "metadata": {
  "kernelspec": {
   "display_name": "Python",
   "language": "python",
   "name": "conda-env-python-py"
  },
  "language_info": {
   "codemirror_mode": {
    "name": "ipython",
    "version": 3
   },
   "file_extension": ".py",
   "mimetype": "text/x-python",
   "name": "python",
   "nbconvert_exporter": "python",
   "pygments_lexer": "ipython3",
   "version": "3.7.12"
  }
 },
 "nbformat": 4,
 "nbformat_minor": 5
}
